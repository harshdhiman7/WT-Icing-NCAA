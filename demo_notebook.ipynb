{
 "cells": [
  {
   "cell_type": "code",
   "execution_count": 2,
   "metadata": {},
   "outputs": [
    {
     "name": "stdout",
     "output_type": "stream",
     "text": [
      "Intercept (ln(a)): -1.3952256574272202\n",
      "Slope (b): 1.4341360404119001\n"
     ]
    }
   ],
   "source": [
    "import numpy as np\n",
    "import pandas as pd\n",
    "from sklearn.linear_model import LinearRegression\n",
    "\n",
    "# Sample data\n",
    "data = {\n",
    "    'Advertising': [100, 200, 300, 400, 500],\n",
    "    'Revenue': [200, 450, 800, 1300, 2100]\n",
    "}\n",
    "df = pd.DataFrame(data)\n",
    "\n",
    "# Log transformation\n",
    "df['Log_Advertising'] = np.log(df['Advertising'])\n",
    "df['Log_Revenue'] = np.log(df['Revenue'])\n",
    "\n",
    "# Linear regression\n",
    "model = LinearRegression()\n",
    "model.fit(df[['Log_Advertising']], df['Log_Revenue'])\n",
    "\n",
    "# Coefficients\n",
    "intercept = model.intercept_  # ln(a)\n",
    "slope = model.coef_[0]        # b\n",
    "\n",
    "print(f\"Intercept (ln(a)): {intercept}\")\n",
    "print(f\"Slope (b): {slope}\")\n"
   ]
  }
 ],
 "metadata": {
  "kernelspec": {
   "display_name": "Python 3",
   "language": "python",
   "name": "python3"
  },
  "language_info": {
   "codemirror_mode": {
    "name": "ipython",
    "version": 3
   },
   "file_extension": ".py",
   "mimetype": "text/x-python",
   "name": "python",
   "nbconvert_exporter": "python",
   "pygments_lexer": "ipython3",
   "version": "3.11.4"
  }
 },
 "nbformat": 4,
 "nbformat_minor": 2
}
